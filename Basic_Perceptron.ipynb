{
  "nbformat": 4,
  "nbformat_minor": 0,
  "metadata": {
    "colab": {
      "name": "Basic Perceptron.ipynb",
      "provenance": [],
      "authorship_tag": "ABX9TyNOhIzV810Yx0pr+UPExhZK",
      "include_colab_link": true
    },
    "kernelspec": {
      "name": "python3",
      "display_name": "Python 3"
    }
  },
  "cells": [
    {
      "cell_type": "markdown",
      "metadata": {
        "id": "view-in-github",
        "colab_type": "text"
      },
      "source": [
        "<a href=\"https://colab.research.google.com/github/DavidGlezGmz/Neural-Networks/blob/main/Basic_Perceptron.ipynb\" target=\"_parent\"><img src=\"https://colab.research.google.com/assets/colab-badge.svg\" alt=\"Open In Colab\"/></a>"
      ]
    },
    {
      "cell_type": "code",
      "metadata": {
        "id": "y_BAB0ZdSkKO"
      },
      "source": [
        "import numpy as np\n",
        "import matplotlib.pyplot as plt\n",
        "import time"
      ],
      "execution_count": 4,
      "outputs": []
    },
    {
      "cell_type": "markdown",
      "source": [
        "# 1. Datos Iniciales"
      ],
      "metadata": {
        "id": "qWb2ece7ny_t"
      }
    },
    {
      "cell_type": "code",
      "source": [
        "err_vector = [] #Vector de error\n",
        "w_f = [] #Vector de Pesos Finales\n",
        "\n",
        "#---------------------------------------------------------------------\n",
        "\n",
        "#Vectores de Entrada\n",
        "x = np.array([[4,2],[5,4], [7,5],[9,4],[3,6],[4,8],[6,7],[8,8]])\n",
        "print(f\"Entradas:\\n{x}\\n\")\n",
        "\n",
        "#Bias o Umbral\n",
        "bias = np.shape(x)[0] # [0] =  Numero de columnas, [1] = Numero de Filas\n",
        "bias = -1*np.ones((bias,1))\n",
        "#print(f\"Bias para Matriz de Vector aumentado:\\n{bias}\\n\")\n",
        "\n",
        "#Vector Aumentado\n",
        "x = np.concatenate([x,bias], axis = 1) # 1 = Derecha, 0 = Abajo\n",
        "print(f\"Matriz Aumentado:\\n{x}\\n\")\n",
        "\n",
        "#Targets ó Salida Deseada\n",
        "t = np.array([[0],[0],[0],[0],[1],[1],[1],[1]])\n",
        "print(f\"Salida Deseada:\\n{t}\\n\")\n",
        "\n",
        "#Pesos y Umbral\n",
        "w_i = np.array([[0.5],[0.5],[0.5]])\n",
        "print(f\"Pesos y Umbral (Bias) INICIAL:\\n{w_i}\\n\")\n",
        "\n",
        "#alpha (Aprendizaje )\n",
        "alpha = 0.25\n",
        "print(f\"Alpha : {alpha}\\n\")"
      ],
      "metadata": {
        "colab": {
          "base_uri": "https://localhost:8080/"
        },
        "id": "cPzKCG4fngWk",
        "outputId": "1685831d-fde2-4c07-9550-4084b9b4897c"
      },
      "execution_count": 5,
      "outputs": [
        {
          "output_type": "stream",
          "name": "stdout",
          "text": [
            "Entradas:\n",
            "[[4 2]\n",
            " [5 4]\n",
            " [7 5]\n",
            " [9 4]\n",
            " [3 6]\n",
            " [4 8]\n",
            " [6 7]\n",
            " [8 8]]\n",
            "\n",
            "Matriz Aumentado:\n",
            "[[ 4.  2. -1.]\n",
            " [ 5.  4. -1.]\n",
            " [ 7.  5. -1.]\n",
            " [ 9.  4. -1.]\n",
            " [ 3.  6. -1.]\n",
            " [ 4.  8. -1.]\n",
            " [ 6.  7. -1.]\n",
            " [ 8.  8. -1.]]\n",
            "\n",
            "Salida Deseada:\n",
            "[[0]\n",
            " [0]\n",
            " [0]\n",
            " [0]\n",
            " [1]\n",
            " [1]\n",
            " [1]\n",
            " [1]]\n",
            "\n",
            "Pesos y Umbral (Bias) INICIAL:\n",
            "[[0.5]\n",
            " [0.5]\n",
            " [0.5]]\n",
            "\n",
            "Alpha : 0.25\n",
            "\n"
          ]
        }
      ]
    },
    {
      "cell_type": "markdown",
      "source": [
        "# 2. Modelo"
      ],
      "metadata": {
        "id": "SYJ3SPeHn5Bh"
      }
    },
    {
      "cell_type": "code",
      "source": [
        "#REGLA DEL PERCEPTRON\n",
        "\n",
        "tic = time.time() #Iniciamos Cronómetro para calcular tiempo de ejecución\n",
        "\n",
        "r = np.dot(x, w_i) # r = p1x1 + p2x2 - Bias\n",
        "print(f\"r= \\n{r}\\n\")\n",
        "\n",
        "y = np.uint32(r >= 0) # Función Límite Duro (Salida Calculada)\n",
        "print(f\"(Salida Calculada) y = \\n{y}\\n\")\n",
        "\n",
        "err = sum((t - y) ** 2) / len(y) #Se calcula el Error cuadrático medio MSE entre t,y\n",
        "err_vector.append(err)\n",
        "print(f\"Error : \\n{err_vector}\\n\")\n",
        "\n",
        "epoch = 0\n",
        "\n",
        "while (sum(y != t)):\n",
        "  epoch += 1\n",
        "  print(f\"Epoca : \\n{epoch}\\n\")\n",
        "\n",
        "  for i in range(np.shape(x)[0]):\n",
        "    r = np.dot(x[i], w_i) #producto punto\n",
        "    y[i] = np.uint32(r >= 0) # Función Límite Duro (Salida Calculada NUEVA)\n",
        "    x_p = np. reshape (x[i], (len(w_i), 1)) # Se deja unicamente los valores vectoriales de la matriz \"Vector Aumentado\"\n",
        "    w_n = w_i + alpha * (t[i] - y[i]) * x_p # Cálculo de los nuevos Pesos\n",
        "    w_i = w_n\n",
        "\n",
        "  err = sum((t - y) ** 2)/len(y) #Se calcula el Error cuadrático medio MSE entre t,y\n",
        "  err_vector.append(err)\n",
        "  print(f\"Error:{err}\\n\")\n",
        "\n",
        "  w_f.append(w_i)\n",
        "  print(f\"Pesos finales:\\n{w_i}\\n\")\n",
        "\n",
        "toc = time.time ()\n"
      ],
      "metadata": {
        "colab": {
          "base_uri": "https://localhost:8080/"
        },
        "id": "xgRnyEsqnukb",
        "outputId": "debb011d-ea53-4b9c-9826-d7bd2e594d8f"
      },
      "execution_count": 6,
      "outputs": [
        {
          "output_type": "stream",
          "name": "stdout",
          "text": [
            "r= \n",
            "[[2.5]\n",
            " [4. ]\n",
            " [5.5]\n",
            " [6. ]\n",
            " [4. ]\n",
            " [5.5]\n",
            " [6. ]\n",
            " [7.5]]\n",
            "\n",
            "(Salida Calculada) y = \n",
            "[[1]\n",
            " [1]\n",
            " [1]\n",
            " [1]\n",
            " [1]\n",
            " [1]\n",
            " [1]\n",
            " [1]]\n",
            "\n",
            "Error : \n",
            "[array([0.5])]\n",
            "\n",
            "Epoca : \n",
            "1\n",
            "\n",
            "Error:[0.25]\n",
            "\n",
            "Pesos finales:\n",
            "[[0.25]\n",
            " [1.5 ]\n",
            " [0.5 ]]\n",
            "\n",
            "Epoca : \n",
            "2\n",
            "\n",
            "Error:[0.125]\n",
            "\n",
            "Pesos finales:\n",
            "[[-0.75]\n",
            " [ 1.  ]\n",
            " [ 0.75]]\n",
            "\n",
            "Epoca : \n",
            "3\n",
            "\n",
            "Error:[0.]\n",
            "\n",
            "Pesos finales:\n",
            "[[-0.75]\n",
            " [ 1.  ]\n",
            " [ 0.75]]\n",
            "\n"
          ]
        }
      ]
    },
    {
      "cell_type": "markdown",
      "source": [
        "# 3. Resultados"
      ],
      "metadata": {
        "id": "cz09-tvhoAl-"
      }
    },
    {
      "cell_type": "code",
      "source": [
        "#GRAFICAR ERRORES\n",
        "plt.figure(0)\n",
        "plt.plot (err_vector, linewidth = 2)\n",
        "plt.title ('Grafica de errores: Regla Perceptrón')\n",
        "plt.ylabel ('Magnitud del error')\n",
        "plt.xlabel ('Epocas')\n",
        "plt.scatter(len (err_vector) - 1, 0, color= 'r', s=200, marker= 'o', alpha = 0.4)\n",
        "plt.show ()\n",
        "\n",
        "\n",
        "#GRAFICAR TLU \n",
        "plt.xlim ([-1.0, 10.0])\n",
        "plt.ylim ([-1.0, 10.0])\n",
        "\n",
        "patterns = np.unique(t)\n",
        "\n",
        "for patt in patterns:\n",
        "  pos = np.where(patt == t)[0]\n",
        "\n",
        "  if patt == 0:\n",
        "    plt.scatter(x[pos,0], x[pos,1], color= 'g', s=200, marker= 'o', alpha = 0.8)\n",
        "  else:\n",
        "    plt.scatter(x[pos,0], x[pos,1], color= 'b', s=200, marker= 'x', alpha = 0.8)\n",
        "\n",
        "x1 = np.linspace(-1,12)\n",
        "x2 = -(w_i[0]/w_i[1])*x1 + (w_i[2]/w_i[1])\n",
        "\n",
        "plt.figure(1)\n",
        "plt.plot (x1,x2,'red', linewidth = 2)\n",
        "plt.title (\"Frontera de decisión: Regla de perceptrón\")\n",
        "plt.show()\n"
      ],
      "metadata": {
        "colab": {
          "base_uri": "https://localhost:8080/",
          "height": 559
        },
        "id": "IwqMwoY7oFyJ",
        "outputId": "6ec48b30-fa05-4e44-fd76-9463e1c641b0"
      },
      "execution_count": 7,
      "outputs": [
        {
          "output_type": "display_data",
          "data": {
            "text/plain": [
              "<Figure size 432x288 with 1 Axes>"
            ],
            "image/png": "[encoded data removed]"
          },
          "metadata": {
            "needs_background": "light"
          }
        },
        {
          "output_type": "display_data",
          "data": {
            "text/plain": [
              "<Figure size 432x288 with 1 Axes>"
            ],
            "image/png": "[encoded data removed]"
          },
          "metadata": {
            "needs_background": "light"
          }
        }
      ]
    },
    {
      "cell_type": "code",
      "source": [
        "#Pesos Finales\n",
        "print('\\nPesos finales: ')\n",
        "for i in range(1):\n",
        "    res = str(w_i)\n",
        "    print(res)\n",
        "    print()\n",
        "\n",
        "\n",
        "# Resultados Finales, comparación\n",
        "a = np.dot(x, w_i)\n",
        "y= np.uint32(a >= 0)\n",
        "\n",
        "print('REGLA DEL PERCEPTRON')\n",
        "print('Meta:    Predicción:')\n",
        "for i in range(len(y)):\n",
        "    res = str(t[i]) + '--------' + str(y[i])\n",
        "    print(res)\n",
        "\n",
        "print(f'\\nTiempo requerido: {toc - tic:.5f} ms.')\n",
        "print(f'\\nÉpocas requeridas: {epoch}.')"
      ],
      "metadata": {
        "colab": {
          "base_uri": "https://localhost:8080/"
        },
        "id": "aZ-PFYoUoKEr",
        "outputId": "3dcadb3a-da50-448a-e26f-fe28713a3bb0"
      },
      "execution_count": 8,
      "outputs": [
        {
          "output_type": "stream",
          "name": "stdout",
          "text": [
            "\n",
            "Pesos finales: \n",
            "[[-0.75]\n",
            " [ 1.  ]\n",
            " [ 0.75]]\n",
            "\n",
            "REGLA DEL PERCEPTRON\n",
            "Meta:    Predicción:\n",
            "[0]--------[0]\n",
            "[0]--------[0]\n",
            "[0]--------[0]\n",
            "[0]--------[0]\n",
            "[1]--------[1]\n",
            "[1]--------[1]\n",
            "[1]--------[1]\n",
            "[1]--------[1]\n",
            "\n",
            "Tiempo requerido: 0.01221 ms.\n",
            "\n",
            "Épocas requeridas: 3.\n"
          ]
        }
      ]
    }
  ]
}